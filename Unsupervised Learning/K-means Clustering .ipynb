{
 "cells": [
  {
   "cell_type": "markdown",
   "metadata": {},
   "source": [
    "# K-means Clustering\n",
    "- K-means is an iterative, unsupervised clustering algorithm that groups similar instances together into clusters. The algorithm starts by guessing the initial centroids for each cluster, and then repeatedly assigns instances to the nearest cluster and re-computes the centroid of that cluster."
   ]
  },
  {
   "cell_type": "code",
   "execution_count": 1,
   "metadata": {
    "collapsed": true
   },
   "outputs": [],
   "source": [
    "import numpy as np  \n",
    "import pandas as pd  \n",
    "import matplotlib.pyplot as plt   \n",
    "from scipy.io import loadmat  \n",
    "%matplotlib inline"
   ]
  },
  {
   "cell_type": "code",
   "execution_count": 6,
   "metadata": {},
   "outputs": [],
   "source": [
    "raw_data = loadmat('ex7data2.mat')\n",
    "X = raw_data['X']"
   ]
  },
  {
   "cell_type": "markdown",
   "metadata": {},
   "source": [
    "### Finding the nearest centroid"
   ]
  },
  {
   "cell_type": "code",
   "execution_count": 16,
   "metadata": {
    "collapsed": true
   },
   "outputs": [],
   "source": [
    "def find_nearest_centroids(X, centroids):\n",
    "    m = X.shape[0]\n",
    "    k = centroids.shape[0]\n",
    "    idx = np.zeros(m)\n",
    "    \n",
    "    for point in range(m):\n",
    "        min_distance = 1000000\n",
    "        for c in range(k):\n",
    "            distance = np.sum((X[point, :] - centroids[c, :]) ** 2)\n",
    "            if distance < min_distance:\n",
    "                min_distance = distance\n",
    "                idx[point] = c\n",
    "    return idx\n",
    "\n",
    "def compute_centroids(X, idx, k):  \n",
    "    m, n = X.shape\n",
    "    centroids = np.zeros((k, n))\n",
    "\n",
    "    for i in range(k):\n",
    "        indices = np.where(idx == i)\n",
    "        centroids[i, :] = (np.sum(X[indices, :], axis=1) / len(indices[0])).ravel()\n",
    "\n",
    "    return centroids\n",
    "\n",
    "def run_k_means(X, initial_centroids, max_iters):  \n",
    "    m, n = X.shape\n",
    "    k = initial_centroids.shape[0]\n",
    "    idx = np.zeros(m)\n",
    "    centroids = initial_centroids\n",
    "\n",
    "    for i in range(max_iters):\n",
    "        idx = find_nearest_centroids(X, centroids)\n",
    "        centroids = compute_centroids(X, idx, k)\n",
    "\n",
    "    return idx, centroids"
   ]
  },
  {
   "cell_type": "code",
   "execution_count": 17,
   "metadata": {},
   "outputs": [],
   "source": [
    "initial_centroids = np.array([[3, 3], [6, 2], [8, 5]])\n",
    "idx, centroids = run_k_means(X, initial_centroids, 100)  "
   ]
  },
  {
   "cell_type": "code",
   "execution_count": 34,
   "metadata": {},
   "outputs": [
    {
     "data": {
      "text/plain": [
       "<matplotlib.legend.Legend at 0x1154b7240>"
      ]
     },
     "execution_count": 34,
     "metadata": {},
     "output_type": "execute_result"
    },
    {
     "data": {
      "image/png": "[encoded data removed]",
      "text/plain": [
       "<matplotlib.figure.Figure at 0x1151168d0>"
      ]
     },
     "metadata": {},
     "output_type": "display_data"
    }
   ],
   "source": [
    "cluster_one = X[np.where(idx == 0)[0], :]\n",
    "cluster_two = X[np.where(idx == 1)[0], :]\n",
    "cluster_three = X[np.where(idx == 2)[0], :]\n",
    "\n",
    "fig, ax = plt.subplots(figsize=(12,8))  \n",
    "ax.scatter(cluster_one[:,0], cluster_one[:,1], s=30, color='r', label='Cluster 1')  \n",
    "ax.scatter(cluster_two[:,0], cluster_two[:,1], s=30, color='g', label='Cluster 2')  \n",
    "ax.scatter(cluster_three[:,0], cluster_three[:,1], s=30, color='b', label='Cluster 3')  \n",
    "ax.legend()  "
   ]
  }
 ],
 "metadata": {
  "kernelspec": {
   "display_name": "Python 3",
   "language": "python",
   "name": "python3"
  },
  "language_info": {
   "codemirror_mode": {
    "name": "ipython",
    "version": 3
   },
   "file_extension": ".py",
   "mimetype": "text/x-python",
   "name": "python",
   "nbconvert_exporter": "python",
   "pygments_lexer": "ipython3",
   "version": "3.6.1"
  }
 },
 "nbformat": 4,
 "nbformat_minor": 2
}

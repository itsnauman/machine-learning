{
 "cells": [
  {
   "cell_type": "code",
   "execution_count": 1,
   "metadata": {
    "collapsed": true
   },
   "outputs": [],
   "source": [
    "import numpy as np  \n",
    "import pandas as pd  \n",
    "import matplotlib.pyplot as plt  \n",
    "from scipy.io import loadmat  \n",
    "\n",
    "%matplotlib inline"
   ]
  },
  {
   "cell_type": "code",
   "execution_count": 2,
   "metadata": {
    "collapsed": true
   },
   "outputs": [],
   "source": [
    "data = loadmat('ex3data1.mat')\n",
    "weights = loadmat('ex3weights.mat')\n",
    "\n",
    "X = data['X']\n",
    "# # Add bias unit\n",
    "# ones = np.ones((X.shape[0], 1))\n",
    "\n",
    "# X = np.hstack((ones, X))\n",
    "y = data['y']\n",
    "\n",
    "# Thetas already provided from a trained network for testing purposes\n",
    "theta1 = weights['Theta1']\n",
    "theta2 = weights['Theta2']"
   ]
  },
  {
   "cell_type": "code",
   "execution_count": 3,
   "metadata": {},
   "outputs": [],
   "source": [
    "INPUT_LAYER_SIZE = 400\n",
    "HIDDEN_LAYER_SIZE = 25\n",
    "OUTPUT_LAYER_SIZE = 10\n",
    "TRAINING_SET_SIZE = X.shape[0]\n",
    "\n"
   ]
  },
  {
   "cell_type": "code",
   "execution_count": 4,
   "metadata": {},
   "outputs": [],
   "source": [
    "sigmoid = lambda z: 1 / (1 + np.exp(-z))\n",
    "\n",
    "def flatten_params(thetas_list):\n",
    "    \"\"\" Flatten a list of numpy array into a vector \"\"\"\n",
    "    flattened_list = [t.flatten() for t in thetas_list]\n",
    "    combined = np.concatenate(flattened_list).ravel()\n",
    "    return combined.reshape((len(combined), 1))\n",
    "\n",
    "def reshape_params(theta_list):\n",
    "    theta2 = theta_list[(INPUT_LAYER_SIZE + 1) * HIDDEN_LAYER_SIZE :].reshape((OUTPUT_LAYER_SIZE, HIDDEN_LAYER_SIZE + 1))\n",
    "    theta1 = theta_list[:(INPUT_LAYER_SIZE + 1) * HIDDEN_LAYER_SIZE].reshape((HIDDEN_LAYER_SIZE, INPUT_LAYER_SIZE + 1))\n",
    "    return (theta1, theta2)\n",
    "                                                                                                                                                     \n",
    "def forward_propagate(X, theta1, theta2):  \n",
    "    X = np.matrix(X)\n",
    "    theta1 = np.matrix(theta1)\n",
    "    theta2 = np.matrix(theta2)\n",
    "    m = X.shape[0]\n",
    "\n",
    "    a1 = np.insert(X, 0, values=np.ones(m), axis=1)\n",
    "\n",
    "    z2 = a1 * theta1.T\n",
    "    a2 = np.insert(sigmoid(z2), 0, values=np.ones(m), axis=1)\n",
    "\n",
    "    z3 = a2 * theta2.T\n",
    "    h = sigmoid(z3)\n",
    "    \n",
    "    return h\n",
    "\n",
    "def cost(params, X, y):\n",
    "    # reshape the parameter array into parameter matrices for each layer\n",
    "    theta1 = np.matrix(np.reshape(params[:HIDDEN_LAYER_SIZE * (INPUT_LAYER_SIZE + 1)], (HIDDEN_LAYER_SIZE, (INPUT_LAYER_SIZE + 1))))\n",
    "    theta2 = np.matrix(np.reshape(params[HIDDEN_LAYER_SIZE * (INPUT_LAYER_SIZE + 1):], (OUTPUT_LAYER_SIZE, (HIDDEN_LAYER_SIZE + 1))))\n",
    "    \n",
    "    h = forward_propagate(X, theta1, theta2)\n",
    "    X = np.matrix(X)\n",
    "    y = np.matrix(y)\n",
    "    \n",
    "    total_cost = 0\n",
    "    for i in range(TRAINING_SET_SIZE):\n",
    "        first_term = np.multiply(-y[i,:], np.log(h[i,:]))\n",
    "        second_term = np.multiply((1 - y[i,:]), np.log(1 - h[i,:]))\n",
    "        total_cost += np.sum(first_term - second_term)\n",
    "        \n",
    "    total_cost = total_cost / TRAINING_SET_SIZE\n",
    "    return total_cost\n",
    "        "
   ]
  },
  {
   "cell_type": "code",
   "execution_count": 5,
   "metadata": {},
   "outputs": [
    {
     "data": {
      "text/plain": [
       "-262.9150440790313"
      ]
     },
     "execution_count": 5,
     "metadata": {},
     "output_type": "execute_result"
    }
   ],
   "source": [
    "flat = flatten_params(np.array([theta1, theta2]))\n",
    "params = (np.random.random(size=25 * (400 + 1) + 10 * (25 + 1)) - 0.5) * 0.25\n",
    "cost(params, X, y)\n",
    "    "
   ]
  },
  {
   "cell_type": "code",
   "execution_count": null,
   "metadata": {
    "collapsed": true
   },
   "outputs": [],
   "source": []
  },
  {
   "cell_type": "code",
   "execution_count": null,
   "metadata": {
    "collapsed": true
   },
   "outputs": [],
   "source": []
  }
 ],
 "metadata": {
  "kernelspec": {
   "display_name": "Python 3",
   "language": "python",
   "name": "python3"
  },
  "language_info": {
   "codemirror_mode": {
    "name": "ipython",
    "version": 3
   },
   "file_extension": ".py",
   "mimetype": "text/x-python",
   "name": "python",
   "nbconvert_exporter": "python",
   "pygments_lexer": "ipython3",
   "version": "3.6.1"
  }
 },
 "nbformat": 4,
 "nbformat_minor": 2
}
